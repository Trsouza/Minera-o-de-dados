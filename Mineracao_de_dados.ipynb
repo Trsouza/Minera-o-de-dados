{
 "cells": [
  {
   "cell_type": "markdown",
   "metadata": {},
   "source": [
    "#### Tathiane Ribeiro Souza - Matrícula: 389957"
   ]
  },
  {
   "cell_type": "markdown",
   "metadata": {
    "_uuid": "5168df7b84df72cb89a5c4a3c06d83f7e6fcd8b6"
   },
   "source": [
    "# Mineração de Dados\n",
    "A base de dados que irei utilizar é de uma empresa produtora de rosas. Onde explorarei os dados de vendas da mesma, descobrindo quais são as rosas/flores mais vendidas e os conjuntos de regras que podem ser obtidos. \n",
    "Utilizei o algoritmo apriori para extrair as regras de associação, e a para ilustrar essas associações utilizei a biblioteca NetworkX do python. Adotei o Processo de extração do conhecimento - KDD, para realizar está mineração. \n",
    "##### Este processo consiste em:\n",
    "1. Seleção dos dados: É onde se toma a decisão de qual base de dados utilizar.\n",
    "2. Pré-Processamento: Onde acontece a limpeza dos dados e seleção de atributos.\n",
    "3. Transformação: Os dados da etapa anterior são analisados e reorganizados de uma forma especifica para que possam ser interpretados na etapa seguinte.\n",
    "4. Data Mining: A mineração faz com que meros dados sejam transformados em informações para serem posteriormente  interpretados.\n",
    "5. Interpretação e avaliação: É onde as regras indicadas pelo processo anterior serão interpretadas e avaliadas. Após a interpretação poderão surgir padrões, relacionamentos e descoberta de novos fatos, que podem ser utilizados para pesquisas, otimização e outros."
   ]
  },
  {
   "cell_type": "code",
   "execution_count": 20,
   "metadata": {
    "_cell_guid": "b1076dfc-b9ad-4769-8c92-a6c4dae69d19",
    "_uuid": "8f2839f25d086af736a60e9eeb907d3b93b6e0e5"
   },
   "outputs": [],
   "source": [
    "import numpy as np \n",
    "import pandas as pd \n",
    "%matplotlib inline\n",
    "import matplotlib.pyplot as plt\n",
    "import seaborn as sns\n",
    "from mlxtend.preprocessing import TransactionEncoder\n",
    "from mlxtend.frequent_patterns import apriori, association_rules\n",
    "import networkx as nx\n",
    "import warnings\n",
    "warnings.filterwarnings('ignore')"
   ]
  },
  {
   "cell_type": "markdown",
   "metadata": {},
   "source": [
    "\n",
    "## 1. Seleção dos dados:"
   ]
  },
  {
   "cell_type": "markdown",
   "metadata": {},
   "source": [
    "A minha escolha por essa base foi pensando em aplicar os conhecimentos adquiridos na disciplina em algo do mundo real."
   ]
  },
  {
   "cell_type": "code",
   "execution_count": 21,
   "metadata": {
    "_cell_guid": "79c7e3d0-c299-4dcb-8224-4455121ee9b0",
    "_uuid": "d629ff2d2480ee46fbb7e2d37f6b5fab8052498a"
   },
   "outputs": [
    {
     "data": {
      "text/html": [
       "<div>\n",
       "<style scoped>\n",
       "    .dataframe tbody tr th:only-of-type {\n",
       "        vertical-align: middle;\n",
       "    }\n",
       "\n",
       "    .dataframe tbody tr th {\n",
       "        vertical-align: top;\n",
       "    }\n",
       "\n",
       "    .dataframe thead th {\n",
       "        text-align: right;\n",
       "    }\n",
       "</style>\n",
       "<table border=\"1\" class=\"dataframe\">\n",
       "  <thead>\n",
       "    <tr style=\"text-align: right;\">\n",
       "      <th></th>\n",
       "      <th>Id_Cliente</th>\n",
       "      <th>Pedido</th>\n",
       "      <th>Numero_NF</th>\n",
       "      <th>Data</th>\n",
       "      <th>Semana</th>\n",
       "      <th>Situacao</th>\n",
       "      <th>Cd_Prd</th>\n",
       "      <th>Produto</th>\n",
       "      <th>Und</th>\n",
       "      <th>Qtd_Emb</th>\n",
       "      <th>Qtde</th>\n",
       "      <th>Val_Unt_Bruto</th>\n",
       "      <th>Val_Desconto</th>\n",
       "      <th>Val_Unt_Liquido</th>\n",
       "      <th>Val_Total_Bruto</th>\n",
       "      <th>Desconto_Total</th>\n",
       "      <th>Total_Liquido</th>\n",
       "    </tr>\n",
       "  </thead>\n",
       "  <tbody>\n",
       "    <tr>\n",
       "      <th>0</th>\n",
       "      <td>1</td>\n",
       "      <td>12704</td>\n",
       "      <td>1399714.0</td>\n",
       "      <td>07/10/19</td>\n",
       "      <td>41</td>\n",
       "      <td>FINALIZADO</td>\n",
       "      <td>455</td>\n",
       "      <td>GYPSOFILA DINAMIC LOVE 70CM C/10</td>\n",
       "      <td>UND</td>\n",
       "      <td>2.0</td>\n",
       "      <td>20</td>\n",
       "      <td>8.00</td>\n",
       "      <td>0.0</td>\n",
       "      <td>8.00</td>\n",
       "      <td>160.0</td>\n",
       "      <td>0.0</td>\n",
       "      <td>160.0</td>\n",
       "    </tr>\n",
       "    <tr>\n",
       "      <th>1</th>\n",
       "      <td>1</td>\n",
       "      <td>12704</td>\n",
       "      <td>1399714.0</td>\n",
       "      <td>07/10/19</td>\n",
       "      <td>41</td>\n",
       "      <td>FINALIZADO</td>\n",
       "      <td>823</td>\n",
       "      <td>LISIANTHUS BRANCO 60CM C/8</td>\n",
       "      <td>UND</td>\n",
       "      <td>1.0</td>\n",
       "      <td>8</td>\n",
       "      <td>12.00</td>\n",
       "      <td>0.0</td>\n",
       "      <td>12.00</td>\n",
       "      <td>96.0</td>\n",
       "      <td>0.0</td>\n",
       "      <td>96.0</td>\n",
       "    </tr>\n",
       "    <tr>\n",
       "      <th>2</th>\n",
       "      <td>1</td>\n",
       "      <td>12704</td>\n",
       "      <td>1399714.0</td>\n",
       "      <td>07/10/19</td>\n",
       "      <td>41</td>\n",
       "      <td>FINALIZADO</td>\n",
       "      <td>4921</td>\n",
       "      <td>ROSA SPRAY BRANCA 60CM C/60</td>\n",
       "      <td>UND</td>\n",
       "      <td>1.0</td>\n",
       "      <td>60</td>\n",
       "      <td>0.90</td>\n",
       "      <td>0.0</td>\n",
       "      <td>0.90</td>\n",
       "      <td>54.0</td>\n",
       "      <td>0.0</td>\n",
       "      <td>54.0</td>\n",
       "    </tr>\n",
       "    <tr>\n",
       "      <th>3</th>\n",
       "      <td>2</td>\n",
       "      <td>11938</td>\n",
       "      <td>1399095.0</td>\n",
       "      <td>01/10/19</td>\n",
       "      <td>40</td>\n",
       "      <td>FINALIZADO</td>\n",
       "      <td>286</td>\n",
       "      <td>ROSA REBU 50CM C/100</td>\n",
       "      <td>UND</td>\n",
       "      <td>1.0</td>\n",
       "      <td>100</td>\n",
       "      <td>0.68</td>\n",
       "      <td>0.0</td>\n",
       "      <td>0.68</td>\n",
       "      <td>68.0</td>\n",
       "      <td>0.0</td>\n",
       "      <td>68.0</td>\n",
       "    </tr>\n",
       "    <tr>\n",
       "      <th>4</th>\n",
       "      <td>2</td>\n",
       "      <td>11938</td>\n",
       "      <td>1399095.0</td>\n",
       "      <td>01/10/19</td>\n",
       "      <td>40</td>\n",
       "      <td>FINALIZADO</td>\n",
       "      <td>7586</td>\n",
       "      <td>ROSA REBU 60CM C/100</td>\n",
       "      <td>UND</td>\n",
       "      <td>1.0</td>\n",
       "      <td>100</td>\n",
       "      <td>0.88</td>\n",
       "      <td>0.0</td>\n",
       "      <td>0.88</td>\n",
       "      <td>88.0</td>\n",
       "      <td>0.0</td>\n",
       "      <td>88.0</td>\n",
       "    </tr>\n",
       "  </tbody>\n",
       "</table>\n",
       "</div>"
      ],
      "text/plain": [
       "   Id_Cliente  Pedido  Numero_NF      Data  Semana    Situacao  Cd_Prd  \\\n",
       "0           1   12704  1399714.0  07/10/19      41  FINALIZADO     455   \n",
       "1           1   12704  1399714.0  07/10/19      41  FINALIZADO     823   \n",
       "2           1   12704  1399714.0  07/10/19      41  FINALIZADO    4921   \n",
       "3           2   11938  1399095.0  01/10/19      40  FINALIZADO     286   \n",
       "4           2   11938  1399095.0  01/10/19      40  FINALIZADO    7586   \n",
       "\n",
       "                            Produto  Und  Qtd_Emb  Qtde  Val_Unt_Bruto  \\\n",
       "0  GYPSOFILA DINAMIC LOVE 70CM C/10  UND      2.0    20           8.00   \n",
       "1        LISIANTHUS BRANCO 60CM C/8  UND      1.0     8          12.00   \n",
       "2       ROSA SPRAY BRANCA 60CM C/60  UND      1.0    60           0.90   \n",
       "3              ROSA REBU 50CM C/100  UND      1.0   100           0.68   \n",
       "4              ROSA REBU 60CM C/100  UND      1.0   100           0.88   \n",
       "\n",
       "   Val_Desconto  Val_Unt_Liquido  Val_Total_Bruto  Desconto_Total  \\\n",
       "0           0.0             8.00            160.0             0.0   \n",
       "1           0.0            12.00             96.0             0.0   \n",
       "2           0.0             0.90             54.0             0.0   \n",
       "3           0.0             0.68             68.0             0.0   \n",
       "4           0.0             0.88             88.0             0.0   \n",
       "\n",
       "   Total_Liquido  \n",
       "0          160.0  \n",
       "1           96.0  \n",
       "2           54.0  \n",
       "3           68.0  \n",
       "4           88.0  "
      ]
     },
     "execution_count": 21,
     "metadata": {},
     "output_type": "execute_result"
    }
   ],
   "source": [
    "dataset=pd.read_csv('./dataset.csv', encoding='utf-8')\n",
    "dataset.head()"
   ]
  },
  {
   "cell_type": "markdown",
   "metadata": {},
   "source": [
    "#### Descrição da base bruta\n",
    "\n",
    "* Id_Cliente (Identificador do cliente)\n",
    "* Pedido\t(Numero do pedido)\n",
    "* Numero_NF (Número da nota fiscal)\n",
    "* Data (Data do dia da compra)\n",
    "* Semana (Número correspondente a semana do ano)\t\n",
    "* Situacao (Indica se o pedido já foi finalizado) \t\n",
    "* Cd_Prd (Código do pedido)\t\n",
    "* Produto (Nome do produto)\t\n",
    "* Und (Indica se a embalagem era caixa ou unidade)\t\n",
    "* Qtd_Emb (Número de produtos contidos na embalagem)\t\n",
    "* Qtde (Quantidade de produtos da venda)\t\n",
    "* Val_Unt_Bruto (Valor do produto sem desconto)\t\n",
    "* Val_Desconto (Valor do desconto sobre o produto)\t\n",
    "* Val_Unt_Liquido (Valor do produto após o desconto)\t\t\n",
    "* Val_Total_Bruto (Valor do produto sem desconto)\t\t\n",
    "* Desconto_Total (Valor de descontos sobre os produtos)\t\n",
    "* Total_Liquido (Valor após os descontos)\t"
   ]
  },
  {
   "cell_type": "code",
   "execution_count": 22,
   "metadata": {},
   "outputs": [
    {
     "data": {
      "text/plain": [
       "(14271, 17)"
      ]
     },
     "execution_count": 22,
     "metadata": {},
     "output_type": "execute_result"
    }
   ],
   "source": [
    "dataset.shape   # Como pode ser visto, existem 17 colunas e 14271 linhas."
   ]
  },
  {
   "cell_type": "code",
   "execution_count": 23,
   "metadata": {},
   "outputs": [
    {
     "data": {
      "text/plain": [
       "421"
      ]
     },
     "execution_count": 23,
     "metadata": {},
     "output_type": "execute_result"
    }
   ],
   "source": [
    "dataset['Produto'].nunique()   # Quantos produtos essa empresa tem no catálago de vendas?"
   ]
  },
  {
   "cell_type": "code",
   "execution_count": 24,
   "metadata": {},
   "outputs": [
    {
     "data": {
      "text/plain": [
       "GYPSOFILA DINAMIC LOVE 60CM C/10     762\n",
       "GIRASSOL SUNRISH ORANGE 70CM C/36    395\n",
       "ROSA BOEING 60CM C/120               352\n",
       "ROSA REBU 60CM C/100                 346\n",
       "ROSA REBU 50CM C/100                 261\n",
       "ROSA VARIADA 60CM C/120              252\n",
       "ROSA PEACH AVALANCHE 50CM C/120      227\n",
       "GYPSOFILA DINAMIC LOVE 70CM C/10     224\n",
       "ROSA DOLOMIT 60CM C/120              212\n",
       "ROSA REVIVAL 50CM C/120              212\n",
       "ROSA IPANEMA 60CM C/120              212\n",
       "ROSA ZILDA 50CM C/120                188\n",
       "BOCA DE LEAO BRANCA 70CM A1 C/120    188\n",
       "ROSA DOLOMIT 50CM C/120              179\n",
       "ROSA SPRAY BRANCA 60CM C/60          173\n",
       "LIMONIUM AZUL 70CM C/8               167\n",
       "ROSA SWEET MEMORY 50CM C/100         164\n",
       "ROSA PEACH AVALANCHE 60CM  C/120     154\n",
       "BOCA DE LEAO ROSA 70CM A1 C/120      151\n",
       "GERBERA VARIADA C/80                 144\n",
       "Name: Produto, dtype: int64"
      ]
     },
     "execution_count": 24,
     "metadata": {},
     "output_type": "execute_result"
    }
   ],
   "source": [
    "dataset['Produto'].value_counts().sort_values(ascending=False).head(20)      # Produtos mais vendidos"
   ]
  },
  {
   "cell_type": "code",
   "execution_count": 25,
   "metadata": {},
   "outputs": [
    {
     "data": {
      "text/plain": [
       "Text(0.5, 1.0, 'Mais vendidos')"
      ]
     },
     "execution_count": 25,
     "metadata": {},
     "output_type": "execute_result"
    },
    {
     "data": {
      "image/png": "[encoded data removed]",
      "text/plain": [
       "<Figure size 504x360 with 1 Axes>"
      ]
     },
     "metadata": {
      "needs_background": "light"
     },
     "output_type": "display_data"
    }
   ],
   "source": [
    "figura, ax   = plt.subplots(figsize=(7,5))\n",
    "dataset['Produto'].value_counts().sort_values(ascending=False).head(20).plot(kind='bar')\n",
    "plt.ylabel('Número de vendas')\n",
    "plt.xlabel('Produtos')\n",
    "ax.get_yaxis().get_major_formatter().set_scientific(False)\n",
    "plt.title('Mais vendidos')"
   ]
  },
  {
   "cell_type": "markdown",
   "metadata": {},
   "source": [
    "## 2. Pré-Processamento"
   ]
  },
  {
   "cell_type": "markdown",
   "metadata": {},
   "source": [
    "* Ao explorar esse conjunto de dados, descobri que (3264) foram rotulados como 'NULL'. Então, removi esses itens do dataset além de outras colunas que não eram importantes para a minha perquisa."
   ]
  },
  {
   "cell_type": "code",
   "execution_count": 26,
   "metadata": {},
   "outputs": [
    {
     "data": {
      "text/plain": [
       "Numero_NF         3264\n",
       "Total_Liquido        0\n",
       "Produto              0\n",
       "Pedido               0\n",
       "Data                 0\n",
       "Semana               0\n",
       "Situacao             0\n",
       "Cd_Prd               0\n",
       "Und                  0\n",
       "Desconto_Total       0\n",
       "dtype: int64"
      ]
     },
     "execution_count": 26,
     "metadata": {},
     "output_type": "execute_result"
    }
   ],
   "source": [
    "dataset.isnull().sum().sort_values(ascending=False).head(10)  "
   ]
  },
  {
   "cell_type": "code",
   "execution_count": 27,
   "metadata": {},
   "outputs": [],
   "source": [
    "dataset_atual = dataset.drop(columns=['Semana','Situacao','Numero_NF','Und','Qtd_Emb','Val_Desconto','Val_Total_Bruto','Val_Unt_Bruto','Desconto_Total','Val_Unt_Liquido','Total_Liquido'])"
   ]
  },
  {
   "cell_type": "code",
   "execution_count": 28,
   "metadata": {
    "_uuid": "ce65d836db01c3ef1fb0aa613499829344244cb1"
   },
   "outputs": [
    {
     "data": {
      "text/plain": [
       "(14271, 6)"
      ]
     },
     "execution_count": 28,
     "metadata": {},
     "output_type": "execute_result"
    }
   ],
   "source": [
    "dataset_atual.shape"
   ]
  },
  {
   "cell_type": "code",
   "execution_count": 29,
   "metadata": {},
   "outputs": [
    {
     "data": {
      "text/html": [
       "<div>\n",
       "<style scoped>\n",
       "    .dataframe tbody tr th:only-of-type {\n",
       "        vertical-align: middle;\n",
       "    }\n",
       "\n",
       "    .dataframe tbody tr th {\n",
       "        vertical-align: top;\n",
       "    }\n",
       "\n",
       "    .dataframe thead th {\n",
       "        text-align: right;\n",
       "    }\n",
       "</style>\n",
       "<table border=\"1\" class=\"dataframe\">\n",
       "  <thead>\n",
       "    <tr style=\"text-align: right;\">\n",
       "      <th></th>\n",
       "      <th>Id_Cliente</th>\n",
       "      <th>Pedido</th>\n",
       "      <th>Data</th>\n",
       "      <th>Cd_Prd</th>\n",
       "      <th>Produto</th>\n",
       "      <th>Qtde</th>\n",
       "    </tr>\n",
       "  </thead>\n",
       "  <tbody>\n",
       "    <tr>\n",
       "      <th>0</th>\n",
       "      <td>1</td>\n",
       "      <td>12704</td>\n",
       "      <td>07/10/19</td>\n",
       "      <td>455</td>\n",
       "      <td>GYPSOFILA DINAMIC LOVE 70CM C/10</td>\n",
       "      <td>20</td>\n",
       "    </tr>\n",
       "    <tr>\n",
       "      <th>1</th>\n",
       "      <td>1</td>\n",
       "      <td>12704</td>\n",
       "      <td>07/10/19</td>\n",
       "      <td>823</td>\n",
       "      <td>LISIANTHUS BRANCO 60CM C/8</td>\n",
       "      <td>8</td>\n",
       "    </tr>\n",
       "    <tr>\n",
       "      <th>2</th>\n",
       "      <td>1</td>\n",
       "      <td>12704</td>\n",
       "      <td>07/10/19</td>\n",
       "      <td>4921</td>\n",
       "      <td>ROSA SPRAY BRANCA 60CM C/60</td>\n",
       "      <td>60</td>\n",
       "    </tr>\n",
       "    <tr>\n",
       "      <th>3</th>\n",
       "      <td>2</td>\n",
       "      <td>11938</td>\n",
       "      <td>01/10/19</td>\n",
       "      <td>286</td>\n",
       "      <td>ROSA REBU 50CM C/100</td>\n",
       "      <td>100</td>\n",
       "    </tr>\n",
       "    <tr>\n",
       "      <th>4</th>\n",
       "      <td>2</td>\n",
       "      <td>11938</td>\n",
       "      <td>01/10/19</td>\n",
       "      <td>7586</td>\n",
       "      <td>ROSA REBU 60CM C/100</td>\n",
       "      <td>100</td>\n",
       "    </tr>\n",
       "  </tbody>\n",
       "</table>\n",
       "</div>"
      ],
      "text/plain": [
       "   Id_Cliente  Pedido      Data  Cd_Prd                           Produto  \\\n",
       "0           1   12704  07/10/19     455  GYPSOFILA DINAMIC LOVE 70CM C/10   \n",
       "1           1   12704  07/10/19     823        LISIANTHUS BRANCO 60CM C/8   \n",
       "2           1   12704  07/10/19    4921       ROSA SPRAY BRANCA 60CM C/60   \n",
       "3           2   11938  01/10/19     286              ROSA REBU 50CM C/100   \n",
       "4           2   11938  01/10/19    7586              ROSA REBU 60CM C/100   \n",
       "\n",
       "   Qtde  \n",
       "0    20  \n",
       "1     8  \n",
       "2    60  \n",
       "3   100  \n",
       "4   100  "
      ]
     },
     "execution_count": 29,
     "metadata": {},
     "output_type": "execute_result"
    }
   ],
   "source": [
    "dataset_atual.head()"
   ]
  },
  {
   "cell_type": "code",
   "execution_count": 30,
   "metadata": {
    "_uuid": "f20a2cdb2dc5573a6a7177e836e6149e31aad128"
   },
   "outputs": [
    {
     "data": {
      "text/html": [
       "<div>\n",
       "<style scoped>\n",
       "    .dataframe tbody tr th:only-of-type {\n",
       "        vertical-align: middle;\n",
       "    }\n",
       "\n",
       "    .dataframe tbody tr th {\n",
       "        vertical-align: top;\n",
       "    }\n",
       "\n",
       "    .dataframe thead th {\n",
       "        text-align: right;\n",
       "    }\n",
       "</style>\n",
       "<table border=\"1\" class=\"dataframe\">\n",
       "  <thead>\n",
       "    <tr style=\"text-align: right;\">\n",
       "      <th></th>\n",
       "      <th>Id_Cliente</th>\n",
       "      <th>Pedido</th>\n",
       "      <th>Cd_Prd</th>\n",
       "      <th>Qtde</th>\n",
       "    </tr>\n",
       "  </thead>\n",
       "  <tbody>\n",
       "    <tr>\n",
       "      <th>count</th>\n",
       "      <td>14271.000000</td>\n",
       "      <td>14271.000000</td>\n",
       "      <td>14271.000000</td>\n",
       "      <td>14271.000000</td>\n",
       "    </tr>\n",
       "    <tr>\n",
       "      <th>mean</th>\n",
       "      <td>266.783057</td>\n",
       "      <td>13693.270619</td>\n",
       "      <td>4509.569617</td>\n",
       "      <td>222.484970</td>\n",
       "    </tr>\n",
       "    <tr>\n",
       "      <th>std</th>\n",
       "      <td>159.073196</td>\n",
       "      <td>1227.883490</td>\n",
       "      <td>7957.135220</td>\n",
       "      <td>379.795457</td>\n",
       "    </tr>\n",
       "    <tr>\n",
       "      <th>min</th>\n",
       "      <td>1.000000</td>\n",
       "      <td>11232.000000</td>\n",
       "      <td>9.000000</td>\n",
       "      <td>1.000000</td>\n",
       "    </tr>\n",
       "    <tr>\n",
       "      <th>25%</th>\n",
       "      <td>124.000000</td>\n",
       "      <td>12602.000000</td>\n",
       "      <td>410.000000</td>\n",
       "      <td>36.000000</td>\n",
       "    </tr>\n",
       "    <tr>\n",
       "      <th>50%</th>\n",
       "      <td>259.000000</td>\n",
       "      <td>13662.000000</td>\n",
       "      <td>3272.000000</td>\n",
       "      <td>120.000000</td>\n",
       "    </tr>\n",
       "    <tr>\n",
       "      <th>75%</th>\n",
       "      <td>404.000000</td>\n",
       "      <td>14696.000000</td>\n",
       "      <td>7167.000000</td>\n",
       "      <td>240.000000</td>\n",
       "    </tr>\n",
       "    <tr>\n",
       "      <th>max</th>\n",
       "      <td>553.000000</td>\n",
       "      <td>15989.000000</td>\n",
       "      <td>81940.000000</td>\n",
       "      <td>9840.000000</td>\n",
       "    </tr>\n",
       "  </tbody>\n",
       "</table>\n",
       "</div>"
      ],
      "text/plain": [
       "         Id_Cliente        Pedido        Cd_Prd          Qtde\n",
       "count  14271.000000  14271.000000  14271.000000  14271.000000\n",
       "mean     266.783057  13693.270619   4509.569617    222.484970\n",
       "std      159.073196   1227.883490   7957.135220    379.795457\n",
       "min        1.000000  11232.000000      9.000000      1.000000\n",
       "25%      124.000000  12602.000000    410.000000     36.000000\n",
       "50%      259.000000  13662.000000   3272.000000    120.000000\n",
       "75%      404.000000  14696.000000   7167.000000    240.000000\n",
       "max      553.000000  15989.000000  81940.000000   9840.000000"
      ]
     },
     "execution_count": 30,
     "metadata": {},
     "output_type": "execute_result"
    }
   ],
   "source": [
    "dataset_atual.describe()"
   ]
  },
  {
   "cell_type": "code",
   "execution_count": 31,
   "metadata": {
    "_uuid": "4c9ff67b16f33514600cbfd062244cba616e70db",
    "scrolled": true
   },
   "outputs": [],
   "source": [
    "#dataset_atual.info()"
   ]
  },
  {
   "cell_type": "markdown",
   "metadata": {},
   "source": [
    "Removi 11 colunas\n",
    "#### Descrição da base pré-processada\n",
    "* Id_Cliente (Identificador do cliente)\n",
    "* Pedido\t(Numero do pedido)\n",
    "* Data (Data do dia da compra)\n",
    "* Cd_Prd (Código do pedido)\t\n",
    "* Produto (Nome do produto)\t\t\n",
    "* Qtde (Quantidade de produtos da venda)"
   ]
  },
  {
   "cell_type": "markdown",
   "metadata": {},
   "source": [
    "## 3. Transformação ou formatação"
   ]
  },
  {
   "cell_type": "markdown",
   "metadata": {},
   "source": [
    "* Para começar com a análise de regras de associação, criei um conjunto de dados que contém listas de itens que são comprados juntos."
   ]
  },
  {
   "cell_type": "code",
   "execution_count": 32,
   "metadata": {
    "_uuid": "2c6f412dea9c31fe5fe4624c86c50990c0f645db"
   },
   "outputs": [
    {
     "name": "stdout",
     "output_type": "stream",
     "text": [
      "[['LISIANTHUS BRANCO 60CM C/8', 'ROSA SPRAY BRANCA 60CM C/60', 'GYPSOFILA DINAMIC LOVE 70CM C/10'], ['ROSA REBU 60CM C/100', 'ROSA REBU 50CM C/100'], ['ROSA REBU 40CM C/120'], ['BEGONIA P15', 'ANTURIO VARIADO P12', 'CRISANTEMO MINI P13']]\n",
      "3094\n"
     ]
    }
   ],
   "source": [
    "lista=[]\n",
    "for item in dataset_atual['Pedido'].unique():\n",
    "    lista_aux=list(set(dataset_atual[dataset_atual['Pedido']==item]['Produto']))\n",
    "    if len(lista_aux)>0:\n",
    "        lista.append(lista_aux)\n",
    "#for a in lista:\n",
    "#    print(a)\n",
    "print(lista[0:4])\n",
    "print(len(lista))"
   ]
  },
  {
   "cell_type": "markdown",
   "metadata": {},
   "source": [
    "* Para o algoritmo Apriori, esse conjunto de dados precisa ser codificado faço uso do método one-hot encoded. Isso é realizado usando o TransactionEncoder, como mostrado aqui. "
   ]
  },
  {
   "cell_type": "code",
   "execution_count": 33,
   "metadata": {},
   "outputs": [],
   "source": [
    "te      = TransactionEncoder()\n",
    "te_data = te.fit(lista).transform(lista)\n",
    "data_s  = pd.DataFrame(te_data,columns=te.columns_)\n",
    "#print(data_s.head())"
   ]
  },
  {
   "cell_type": "markdown",
   "metadata": {
    "_uuid": "996f9dff7d760e8d4903c65df77624beb1b6b3b7"
   },
   "source": [
    "## 4. Data Mining"
   ]
  },
  {
   "cell_type": "markdown",
   "metadata": {
    "_uuid": "1ff52907024f1d783c764a90e02a5df81e249af1"
   },
   "source": [
    "### Algoritmo Apriori e regra de associação:\n",
    "* O algoritmo Apriori é utilizado para extrair os conjuntos de produtos frequentes que  são usados para análise de regras de associação. Nesse algoritmo, o usuário define um suporte mínimo que servirá para decidir se um conjunto de produtos é considerado 'frequente'.\n",
    "A seguir pretendo realizar uma análise de regras de associação que dê uma idéia de como as coisas estão se associando. \n",
    "##### As métricas comuns para medir a associação são:\n",
    "1. Support - É a medida da frequência ou abundância de um item em um conjunto de dados. Pode ser 'suporte antecedente', 'consequente suporte' e 'suporte'. 'suporte do antecedente' contém a proporção de transações realizadas para o antecedente, enquanto 'suporte consequente' envolve aquelas do consequente. O 'suporte' é calculado para o antecedente e o consequente em questão.\n",
    "2. Confidence - Fornece a probabilidade do consequente em uma transação, dada a presença do antecedente.\n",
    "3. Lift - Dado que antecedentes e consequentes são independentes, com que frequência eles ocorrem juntos.\n",
    "4. Leverage - É a diferença entre a frequência do antecedente e o consequente em conjunto nas transações para a frequência de ambos em transações independentes.\n",
    "5. Conviction - Uma pontuação mais alta de convicção significa que o consequente é altamente dependente do antecedente."
   ]
  },
  {
   "cell_type": "markdown",
   "metadata": {
    "_uuid": "b870d4578e1b09804d639e3883573e68c6fb2bb5"
   },
   "source": [
    "* Utilizei o algoritmo apriori para obter os conjuntos de itens frequentes. Com taxa de suporte de 3,5%.\n",
    "* No próximo passo utilizo a função de regras de associação, que pode receber qualquer métrica. Aqui eu utilizei 'lift' e especifiquei o limite mínimo como 1."
   ]
  },
  {
   "cell_type": "code",
   "execution_count": 34,
   "metadata": {
    "_uuid": "6601dd38f802d81000e78552295c0c96a9c0ca37"
   },
   "outputs": [
    {
     "name": "stdout",
     "output_type": "stream",
     "text": [
      "    support                                 itemsets\n",
      "0  0.035553           (ALSTROEMERIA AKEMI 70CM C/80)\n",
      "1  0.045572  (ALSTROEMERIA WHINTNEY 70CM A1 C/100-T)\n",
      "2  0.060763      (BOCA DE LEAO BRANCA 70CM A1 C/120)\n",
      "3  0.048804        (BOCA DE LEAO ROSA 70CM A1 C/120)\n",
      "4  0.036846                  (FOLHAGEM PITOSPORO SB)\n",
      "5  0.046218                   (GERBERA VARIADA C/80)\n",
      "6  0.127666      (GIRASSOL SUNRISH ORANGE 70CM C/36)\n",
      "7  0.245960       (GYPSOFILA DINAMIC LOVE 60CM C/10)\n",
      "8  0.072398       (GYPSOFILA DINAMIC LOVE 70CM C/10)\n",
      "9  0.053006                 (LIMONIUM AZUL 70CM C/8)\n"
     ]
    },
    {
     "data": {
      "text/html": [
       "<div>\n",
       "<style scoped>\n",
       "    .dataframe tbody tr th:only-of-type {\n",
       "        vertical-align: middle;\n",
       "    }\n",
       "\n",
       "    .dataframe tbody tr th {\n",
       "        vertical-align: top;\n",
       "    }\n",
       "\n",
       "    .dataframe thead th {\n",
       "        text-align: right;\n",
       "    }\n",
       "</style>\n",
       "<table border=\"1\" class=\"dataframe\">\n",
       "  <thead>\n",
       "    <tr style=\"text-align: right;\">\n",
       "      <th></th>\n",
       "      <th>antecedents</th>\n",
       "      <th>consequents</th>\n",
       "      <th>antecedent support</th>\n",
       "      <th>consequent support</th>\n",
       "      <th>support</th>\n",
       "      <th>confidence</th>\n",
       "      <th>lift</th>\n",
       "      <th>leverage</th>\n",
       "      <th>conviction</th>\n",
       "    </tr>\n",
       "  </thead>\n",
       "  <tbody>\n",
       "    <tr>\n",
       "      <th>0</th>\n",
       "      <td>GIRASSOL SUNRISH ORANGE 70CM C/36</td>\n",
       "      <td>GYPSOFILA DINAMIC LOVE 60CM C/10</td>\n",
       "      <td>0.127666</td>\n",
       "      <td>0.245960</td>\n",
       "      <td>0.052683</td>\n",
       "      <td>0.412658</td>\n",
       "      <td>1.677746</td>\n",
       "      <td>0.021282</td>\n",
       "      <td>1.283818</td>\n",
       "    </tr>\n",
       "    <tr>\n",
       "      <th>1</th>\n",
       "      <td>GYPSOFILA DINAMIC LOVE 60CM C/10</td>\n",
       "      <td>GIRASSOL SUNRISH ORANGE 70CM C/36</td>\n",
       "      <td>0.245960</td>\n",
       "      <td>0.127666</td>\n",
       "      <td>0.052683</td>\n",
       "      <td>0.214192</td>\n",
       "      <td>1.677746</td>\n",
       "      <td>0.021282</td>\n",
       "      <td>1.110110</td>\n",
       "    </tr>\n",
       "    <tr>\n",
       "      <th>2</th>\n",
       "      <td>ROSA REBU 60CM C/100</td>\n",
       "      <td>GIRASSOL SUNRISH ORANGE 70CM C/36</td>\n",
       "      <td>0.111829</td>\n",
       "      <td>0.127666</td>\n",
       "      <td>0.039431</td>\n",
       "      <td>0.352601</td>\n",
       "      <td>2.761894</td>\n",
       "      <td>0.025154</td>\n",
       "      <td>1.347444</td>\n",
       "    </tr>\n",
       "    <tr>\n",
       "      <th>3</th>\n",
       "      <td>GIRASSOL SUNRISH ORANGE 70CM C/36</td>\n",
       "      <td>ROSA REBU 60CM C/100</td>\n",
       "      <td>0.127666</td>\n",
       "      <td>0.111829</td>\n",
       "      <td>0.039431</td>\n",
       "      <td>0.308861</td>\n",
       "      <td>2.761894</td>\n",
       "      <td>0.025154</td>\n",
       "      <td>1.285082</td>\n",
       "    </tr>\n",
       "    <tr>\n",
       "      <th>4</th>\n",
       "      <td>ROSA BOEING 60CM C/120</td>\n",
       "      <td>GYPSOFILA DINAMIC LOVE 60CM C/10</td>\n",
       "      <td>0.113769</td>\n",
       "      <td>0.245960</td>\n",
       "      <td>0.044279</td>\n",
       "      <td>0.389205</td>\n",
       "      <td>1.582390</td>\n",
       "      <td>0.016297</td>\n",
       "      <td>1.234521</td>\n",
       "    </tr>\n",
       "    <tr>\n",
       "      <th>5</th>\n",
       "      <td>GYPSOFILA DINAMIC LOVE 60CM C/10</td>\n",
       "      <td>ROSA BOEING 60CM C/120</td>\n",
       "      <td>0.245960</td>\n",
       "      <td>0.113769</td>\n",
       "      <td>0.044279</td>\n",
       "      <td>0.180026</td>\n",
       "      <td>1.582390</td>\n",
       "      <td>0.016297</td>\n",
       "      <td>1.080805</td>\n",
       "    </tr>\n",
       "    <tr>\n",
       "      <th>6</th>\n",
       "      <td>ROSA REBU 60CM C/100</td>\n",
       "      <td>GYPSOFILA DINAMIC LOVE 60CM C/10</td>\n",
       "      <td>0.111829</td>\n",
       "      <td>0.245960</td>\n",
       "      <td>0.045895</td>\n",
       "      <td>0.410405</td>\n",
       "      <td>1.668583</td>\n",
       "      <td>0.018390</td>\n",
       "      <td>1.278911</td>\n",
       "    </tr>\n",
       "    <tr>\n",
       "      <th>7</th>\n",
       "      <td>GYPSOFILA DINAMIC LOVE 60CM C/10</td>\n",
       "      <td>ROSA REBU 60CM C/100</td>\n",
       "      <td>0.245960</td>\n",
       "      <td>0.111829</td>\n",
       "      <td>0.045895</td>\n",
       "      <td>0.186597</td>\n",
       "      <td>1.668583</td>\n",
       "      <td>0.018390</td>\n",
       "      <td>1.091919</td>\n",
       "    </tr>\n",
       "  </tbody>\n",
       "</table>\n",
       "</div>"
      ],
      "text/plain": [
       "                         antecedents                        consequents  \\\n",
       "0  GIRASSOL SUNRISH ORANGE 70CM C/36   GYPSOFILA DINAMIC LOVE 60CM C/10   \n",
       "1   GYPSOFILA DINAMIC LOVE 60CM C/10  GIRASSOL SUNRISH ORANGE 70CM C/36   \n",
       "2               ROSA REBU 60CM C/100  GIRASSOL SUNRISH ORANGE 70CM C/36   \n",
       "3  GIRASSOL SUNRISH ORANGE 70CM C/36               ROSA REBU 60CM C/100   \n",
       "4             ROSA BOEING 60CM C/120   GYPSOFILA DINAMIC LOVE 60CM C/10   \n",
       "5   GYPSOFILA DINAMIC LOVE 60CM C/10             ROSA BOEING 60CM C/120   \n",
       "6               ROSA REBU 60CM C/100   GYPSOFILA DINAMIC LOVE 60CM C/10   \n",
       "7   GYPSOFILA DINAMIC LOVE 60CM C/10               ROSA REBU 60CM C/100   \n",
       "\n",
       "   antecedent support  consequent support   support  confidence      lift  \\\n",
       "0            0.127666            0.245960  0.052683    0.412658  1.677746   \n",
       "1            0.245960            0.127666  0.052683    0.214192  1.677746   \n",
       "2            0.111829            0.127666  0.039431    0.352601  2.761894   \n",
       "3            0.127666            0.111829  0.039431    0.308861  2.761894   \n",
       "4            0.113769            0.245960  0.044279    0.389205  1.582390   \n",
       "5            0.245960            0.113769  0.044279    0.180026  1.582390   \n",
       "6            0.111829            0.245960  0.045895    0.410405  1.668583   \n",
       "7            0.245960            0.111829  0.045895    0.186597  1.668583   \n",
       "\n",
       "   leverage  conviction  \n",
       "0  0.021282    1.283818  \n",
       "1  0.021282    1.110110  \n",
       "2  0.025154    1.347444  \n",
       "3  0.025154    1.285082  \n",
       "4  0.016297    1.234521  \n",
       "5  0.016297    1.080805  \n",
       "6  0.018390    1.278911  \n",
       "7  0.018390    1.091919  "
      ]
     },
     "execution_count": 34,
     "metadata": {},
     "output_type": "execute_result"
    }
   ],
   "source": [
    "itens_frequentes_l = apriori(data_s, use_colnames=True, min_support=0.035)\n",
    "print(itens_frequentes_l.head(10))\n",
    "\n",
    "regras = association_rules(itens_frequentes_l, metric=\"lift\", min_threshold=1.0)\n",
    "regras.antecedents = regras.antecedents.apply(lambda x: next(iter(x))) # fará com que seja exibido apenas o nome do produto no grafo abaixo\n",
    "regras.consequents = regras.consequents.apply(lambda x: next(iter(x)))\n",
    "regras"
   ]
  },
  {
   "cell_type": "markdown",
   "metadata": {
    "_uuid": "9b1b0e5b50d4b175d183fb61e4a7cea1e653a687"
   },
   "source": [
    "* Em seguida, utilizei o NetworkX (um pacote Python para criação e estudo de redes complexas) para construir um gráfico de rede para verificar a associação entre antecedentes e consequentes obtidos após a regra de associação. Como pode ser visto, a Gypsofila Dinamic Love é um item muito popular. Portanto, se uma pessoa está comprando um dos três produtos, as chances de comprar um Gypsofila Dinamic são altas (o inverso também é verdadeiro, isto é, se uma pessoa está comprando um Gypsofila Dinamic, a probabilidade de ela comprar qualquer um dos três itens é alta). Também notamos uma associação entre o trio: Gypsofila Dinamic Love, Girassol Sunrish Orange e Rosa Rebu. \n"
   ]
  },
  {
   "cell_type": "code",
   "execution_count": 35,
   "metadata": {
    "_uuid": "a0527e7eef46035e50ea9cc2e0a35212b34b7aa4"
   },
   "outputs": [
    {
     "data": {
      "image/png": "[encoded data removed]",
      "text/plain": [
       "<Figure size 864x360 with 1 Axes>"
      ]
     },
     "metadata": {},
     "output_type": "display_data"
    }
   ],
   "source": [
    "figura     = plt.subplots(figsize=(12,5))\n",
    "grafo      = nx.from_pandas_edgelist(regras,source='antecedents',target='consequents')\n",
    "nx.draw(grafo,with_labels=True)\n",
    "plt.show()\n"
   ]
  },
  {
   "cell_type": "markdown",
   "metadata": {},
   "source": [
    "* Quando aumentamos o nível de confiança para 36%, já não temos mais o trio: Gypsofila Dinamic Love, Girassol Sunrish Orange e Rosa Rebu, como podemos verificar abaixo"
   ]
  },
  {
   "cell_type": "code",
   "execution_count": 36,
   "metadata": {},
   "outputs": [
    {
     "data": {
      "text/html": [
       "<div>\n",
       "<style scoped>\n",
       "    .dataframe tbody tr th:only-of-type {\n",
       "        vertical-align: middle;\n",
       "    }\n",
       "\n",
       "    .dataframe tbody tr th {\n",
       "        vertical-align: top;\n",
       "    }\n",
       "\n",
       "    .dataframe thead th {\n",
       "        text-align: right;\n",
       "    }\n",
       "</style>\n",
       "<table border=\"1\" class=\"dataframe\">\n",
       "  <thead>\n",
       "    <tr style=\"text-align: right;\">\n",
       "      <th></th>\n",
       "      <th>antecedents</th>\n",
       "      <th>consequents</th>\n",
       "      <th>antecedent support</th>\n",
       "      <th>consequent support</th>\n",
       "      <th>support</th>\n",
       "      <th>confidence</th>\n",
       "      <th>lift</th>\n",
       "      <th>leverage</th>\n",
       "      <th>conviction</th>\n",
       "    </tr>\n",
       "  </thead>\n",
       "  <tbody>\n",
       "    <tr>\n",
       "      <th>0</th>\n",
       "      <td>GIRASSOL SUNRISH ORANGE 70CM C/36</td>\n",
       "      <td>GYPSOFILA DINAMIC LOVE 60CM C/10</td>\n",
       "      <td>0.127666</td>\n",
       "      <td>0.24596</td>\n",
       "      <td>0.052683</td>\n",
       "      <td>0.412658</td>\n",
       "      <td>1.677746</td>\n",
       "      <td>0.021282</td>\n",
       "      <td>1.283818</td>\n",
       "    </tr>\n",
       "    <tr>\n",
       "      <th>4</th>\n",
       "      <td>ROSA BOEING 60CM C/120</td>\n",
       "      <td>GYPSOFILA DINAMIC LOVE 60CM C/10</td>\n",
       "      <td>0.113769</td>\n",
       "      <td>0.24596</td>\n",
       "      <td>0.044279</td>\n",
       "      <td>0.389205</td>\n",
       "      <td>1.582390</td>\n",
       "      <td>0.016297</td>\n",
       "      <td>1.234521</td>\n",
       "    </tr>\n",
       "    <tr>\n",
       "      <th>6</th>\n",
       "      <td>ROSA REBU 60CM C/100</td>\n",
       "      <td>GYPSOFILA DINAMIC LOVE 60CM C/10</td>\n",
       "      <td>0.111829</td>\n",
       "      <td>0.24596</td>\n",
       "      <td>0.045895</td>\n",
       "      <td>0.410405</td>\n",
       "      <td>1.668583</td>\n",
       "      <td>0.018390</td>\n",
       "      <td>1.278911</td>\n",
       "    </tr>\n",
       "  </tbody>\n",
       "</table>\n",
       "</div>"
      ],
      "text/plain": [
       "                         antecedents                       consequents  \\\n",
       "0  GIRASSOL SUNRISH ORANGE 70CM C/36  GYPSOFILA DINAMIC LOVE 60CM C/10   \n",
       "4             ROSA BOEING 60CM C/120  GYPSOFILA DINAMIC LOVE 60CM C/10   \n",
       "6               ROSA REBU 60CM C/100  GYPSOFILA DINAMIC LOVE 60CM C/10   \n",
       "\n",
       "   antecedent support  consequent support   support  confidence      lift  \\\n",
       "0            0.127666             0.24596  0.052683    0.412658  1.677746   \n",
       "4            0.113769             0.24596  0.044279    0.389205  1.582390   \n",
       "6            0.111829             0.24596  0.045895    0.410405  1.668583   \n",
       "\n",
       "   leverage  conviction  \n",
       "0  0.021282    1.283818  \n",
       "4  0.016297    1.234521  \n",
       "6  0.018390    1.278911  "
      ]
     },
     "execution_count": 36,
     "metadata": {},
     "output_type": "execute_result"
    }
   ],
   "source": [
    "regras[(regras['confidence'] > 0.36) &\n",
    "       (regras['lift'] > 1.0) ]"
   ]
  },
  {
   "cell_type": "markdown",
   "metadata": {},
   "source": [
    "* Em contrapartida se diminuirmos o suporte para 2,5%, podemos elevar a confiança para 40% e obtiremos um maior número de regras."
   ]
  },
  {
   "cell_type": "code",
   "execution_count": 37,
   "metadata": {},
   "outputs": [
    {
     "data": {
      "text/html": [
       "<div>\n",
       "<style scoped>\n",
       "    .dataframe tbody tr th:only-of-type {\n",
       "        vertical-align: middle;\n",
       "    }\n",
       "\n",
       "    .dataframe tbody tr th {\n",
       "        vertical-align: top;\n",
       "    }\n",
       "\n",
       "    .dataframe thead th {\n",
       "        text-align: right;\n",
       "    }\n",
       "</style>\n",
       "<table border=\"1\" class=\"dataframe\">\n",
       "  <thead>\n",
       "    <tr style=\"text-align: right;\">\n",
       "      <th></th>\n",
       "      <th>antecedents</th>\n",
       "      <th>consequents</th>\n",
       "      <th>antecedent support</th>\n",
       "      <th>consequent support</th>\n",
       "      <th>support</th>\n",
       "      <th>confidence</th>\n",
       "      <th>lift</th>\n",
       "      <th>leverage</th>\n",
       "      <th>conviction</th>\n",
       "    </tr>\n",
       "  </thead>\n",
       "  <tbody>\n",
       "    <tr>\n",
       "      <th>0</th>\n",
       "      <td>BOCA DE LEAO BRANCA 70CM A1 C/120</td>\n",
       "      <td>GYPSOFILA DINAMIC LOVE 60CM C/10</td>\n",
       "      <td>0.060763</td>\n",
       "      <td>0.245960</td>\n",
       "      <td>0.025856</td>\n",
       "      <td>0.425532</td>\n",
       "      <td>1.730086</td>\n",
       "      <td>0.010911</td>\n",
       "      <td>1.312588</td>\n",
       "    </tr>\n",
       "    <tr>\n",
       "      <th>1</th>\n",
       "      <td>GIRASSOL SUNRISH ORANGE 70CM C/36</td>\n",
       "      <td>GYPSOFILA DINAMIC LOVE 60CM C/10</td>\n",
       "      <td>0.127666</td>\n",
       "      <td>0.245960</td>\n",
       "      <td>0.052683</td>\n",
       "      <td>0.412658</td>\n",
       "      <td>1.677746</td>\n",
       "      <td>0.021282</td>\n",
       "      <td>1.283818</td>\n",
       "    </tr>\n",
       "    <tr>\n",
       "      <th>2</th>\n",
       "      <td>ROSA DOLOMIT 60CM C/120</td>\n",
       "      <td>GYPSOFILA DINAMIC LOVE 60CM C/10</td>\n",
       "      <td>0.068520</td>\n",
       "      <td>0.245960</td>\n",
       "      <td>0.030381</td>\n",
       "      <td>0.443396</td>\n",
       "      <td>1.802717</td>\n",
       "      <td>0.013528</td>\n",
       "      <td>1.354716</td>\n",
       "    </tr>\n",
       "    <tr>\n",
       "      <th>3</th>\n",
       "      <td>ROSA REBU 60CM C/100</td>\n",
       "      <td>GYPSOFILA DINAMIC LOVE 60CM C/10</td>\n",
       "      <td>0.111829</td>\n",
       "      <td>0.245960</td>\n",
       "      <td>0.045895</td>\n",
       "      <td>0.410405</td>\n",
       "      <td>1.668583</td>\n",
       "      <td>0.018390</td>\n",
       "      <td>1.278911</td>\n",
       "    </tr>\n",
       "    <tr>\n",
       "      <th>4</th>\n",
       "      <td>ROSA VARIADA 60CM C/120</td>\n",
       "      <td>GYPSOFILA DINAMIC LOVE 60CM C/10</td>\n",
       "      <td>0.081448</td>\n",
       "      <td>0.245960</td>\n",
       "      <td>0.033613</td>\n",
       "      <td>0.412698</td>\n",
       "      <td>1.677909</td>\n",
       "      <td>0.013581</td>\n",
       "      <td>1.283906</td>\n",
       "    </tr>\n",
       "    <tr>\n",
       "      <th>5</th>\n",
       "      <td>ROSA ZILDA 50CM C/120</td>\n",
       "      <td>GYPSOFILA DINAMIC LOVE 60CM C/10</td>\n",
       "      <td>0.060763</td>\n",
       "      <td>0.245960</td>\n",
       "      <td>0.026826</td>\n",
       "      <td>0.441489</td>\n",
       "      <td>1.794965</td>\n",
       "      <td>0.011881</td>\n",
       "      <td>1.350091</td>\n",
       "    </tr>\n",
       "    <tr>\n",
       "      <th>6</th>\n",
       "      <td>ROSA ZILDA 50CM C/120</td>\n",
       "      <td>ROSA PEACH AVALANCHE 50CM C/120</td>\n",
       "      <td>0.060763</td>\n",
       "      <td>0.073368</td>\n",
       "      <td>0.027149</td>\n",
       "      <td>0.446809</td>\n",
       "      <td>6.089980</td>\n",
       "      <td>0.022691</td>\n",
       "      <td>1.675066</td>\n",
       "    </tr>\n",
       "  </tbody>\n",
       "</table>\n",
       "</div>"
      ],
      "text/plain": [
       "                         antecedents                       consequents  \\\n",
       "0  BOCA DE LEAO BRANCA 70CM A1 C/120  GYPSOFILA DINAMIC LOVE 60CM C/10   \n",
       "1  GIRASSOL SUNRISH ORANGE 70CM C/36  GYPSOFILA DINAMIC LOVE 60CM C/10   \n",
       "2            ROSA DOLOMIT 60CM C/120  GYPSOFILA DINAMIC LOVE 60CM C/10   \n",
       "3               ROSA REBU 60CM C/100  GYPSOFILA DINAMIC LOVE 60CM C/10   \n",
       "4            ROSA VARIADA 60CM C/120  GYPSOFILA DINAMIC LOVE 60CM C/10   \n",
       "5              ROSA ZILDA 50CM C/120  GYPSOFILA DINAMIC LOVE 60CM C/10   \n",
       "6              ROSA ZILDA 50CM C/120   ROSA PEACH AVALANCHE 50CM C/120   \n",
       "\n",
       "   antecedent support  consequent support   support  confidence      lift  \\\n",
       "0            0.060763            0.245960  0.025856    0.425532  1.730086   \n",
       "1            0.127666            0.245960  0.052683    0.412658  1.677746   \n",
       "2            0.068520            0.245960  0.030381    0.443396  1.802717   \n",
       "3            0.111829            0.245960  0.045895    0.410405  1.668583   \n",
       "4            0.081448            0.245960  0.033613    0.412698  1.677909   \n",
       "5            0.060763            0.245960  0.026826    0.441489  1.794965   \n",
       "6            0.060763            0.073368  0.027149    0.446809  6.089980   \n",
       "\n",
       "   leverage  conviction  \n",
       "0  0.010911    1.312588  \n",
       "1  0.021282    1.283818  \n",
       "2  0.013528    1.354716  \n",
       "3  0.018390    1.278911  \n",
       "4  0.013581    1.283906  \n",
       "5  0.011881    1.350091  \n",
       "6  0.022691    1.675066  "
      ]
     },
     "execution_count": 37,
     "metadata": {},
     "output_type": "execute_result"
    }
   ],
   "source": [
    "itens_frequentes_l = apriori(data_s, use_colnames=True, min_support=0.025)\n",
    "#print(itens_frequentes_l.head(10))\n",
    "\n",
    "regras2 = association_rules(itens_frequentes_l, metric=\"confidence\", min_threshold=0.4)\n",
    "regras2.antecedents = regras2.antecedents.apply(lambda x: next(iter(x))) # fará com que seja exibido apenas o nome do produto no grafo abaixo\n",
    "regras2.consequents = regras2.consequents.apply(lambda x: next(iter(x)))\n",
    "regras2"
   ]
  },
  {
   "cell_type": "code",
   "execution_count": 38,
   "metadata": {},
   "outputs": [
    {
     "data": {
      "image/png": "[encoded data removed]",
      "text/plain": [
       "<Figure size 864x360 with 1 Axes>"
      ]
     },
     "metadata": {},
     "output_type": "display_data"
    }
   ],
   "source": [
    "figura2     = plt.subplots(figsize=(12,5))\n",
    "grafo2      = nx.from_pandas_edgelist(regras2,source='antecedents',target='consequents')\n",
    "nx.draw(grafo2,with_labels=True)\n",
    "plt.show()"
   ]
  },
  {
   "cell_type": "markdown",
   "metadata": {
    "_uuid": "8101fa722db80de048f2c9041ad7e61baded9cc1"
   },
   "source": [
    "## 5. Interpretação e avaliação\n",
    "- A Gypsofila Dinamic Love é a rosa mais vendida desta empresa e mostra uma associação maior com outros 3 produtos: Rosa Rebu, Rosa Boeing e Girassol Sunrish Orange, quando utilizado a taxa de suporte de 3,5%.\n",
    "- Podemos notar também que há uma certa confiança na compra do trio: Gypsofila Dinamic Love, Girassol Sunrish Orange e Rosa Rebu, quando utilizadado o suporte de 3,5% e taxa de confiança menor ou igual 35%.\n",
    "- Já quando diminui o suporte para 2,5% e mesmo aumentando a confiança para 40%, obtivemos um número maior de associações."
   ]
  },
  {
   "cell_type": "markdown",
   "metadata": {},
   "source": [
    "  Existem algumas estratégias que a empresa pode adotar (se ainda não as estiver usando) para aumentar suas vendas, considerando a associação que vimos entre a Gypsofila Dinamic Love, Girassol Sunrish Orange e Rosa Rebu.\n",
    "\n",
    "1. O desconto promocional em um dos três produtos pode atrair os clientes a comprar Gypsofila Dinamic(ou o contrário, também funcionará).\n",
    "2. Colocar esses 3 produtos próximos, pode ser uma boa estratégia para atrair mais clientes (o que vemos muitas vezes acontecer em muitas empresas).\n",
    "3. Que tal arranjos expostos utilizando esses produtos? Isso atrairá os amantes dessas flores?"
   ]
  }
 ],
 "metadata": {
  "kernelspec": {
   "display_name": "Python 3",
   "language": "python",
   "name": "python3"
  },
  "language_info": {
   "codemirror_mode": {
    "name": "ipython",
    "version": 3
   },
   "file_extension": ".py",
   "mimetype": "text/x-python",
   "name": "python",
   "nbconvert_exporter": "python",
   "pygments_lexer": "ipython3",
   "version": "3.7.3"
  }
 },
 "nbformat": 4,
 "nbformat_minor": 1
}
